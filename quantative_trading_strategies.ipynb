{
 "cells": [
  {
   "cell_type": "markdown",
   "metadata": {
    "collapsed": false
   },
   "source": [
    "# 基于LSTM实现对股票价格的预测2.0"
   ]
  },
  {
   "cell_type": "markdown",
   "metadata": {
    "collapsed": false
   },
   "source": [
    "本项目是在《基于LSTM实现对股票价格的预测》项目基础上对单维LSTM网络改编为多维LSTM网络的版本，因此背景知识就不再赘述。\n",
    "\n",
    "如若对背景知识不了解请到《基于LSTM实现对股票价格的预测》项目网址：[https://aistudio.baidu.com/aistudio/projectdetail/4136313?channelType=0&channel=0](http://)查看\n",
    "\n",
    "项目步骤：\n",
    "1. 导入引用库\n",
    "2. 通过调用Tushare的数据接口获取股票历史数据（日线）\n",
    "3. 数据处理\n",
    "4. 建立模型\n",
    "5. 模型训练\n",
    "6. 模型预测"
   ]
  },
  {
   "cell_type": "code",
   "execution_count": 2,
   "metadata": {
    "collapsed": false
   },
   "outputs": [
    {
     "name": "stdout",
     "output_type": "stream",
     "text": [
      "Looking in indexes: https://pypi.tuna.tsinghua.edu.cn/simple\n",
      "Collecting tushare\n",
      "  Downloading https://pypi.tuna.tsinghua.edu.cn/packages/38/33/0b4ed09bff3b69887c2545f1c587420c89685d36c377095e465cc000759b/tushare-1.4.21-py3-none-any.whl (142 kB)\n",
      "\u001b[2K     \u001b[90m━━━━━━━━━━━━━━━━━━━━━━━━━━━━━━━━━━━━━━━\u001b[0m \u001b[32m142.8/142.8 kB\u001b[0m \u001b[31m9.9 MB/s\u001b[0m eta \u001b[36m0:00:00\u001b[0m\n",
      "\u001b[?25hRequirement already satisfied: lxml in /opt/conda/envs/python35-paddle120-env/lib/python3.7/site-packages (from tushare) (4.9.1)\n",
      "Collecting bs4\n",
      "  Downloading https://pypi.tuna.tsinghua.edu.cn/packages/51/bb/bf7aab772a159614954d84aa832c129624ba6c32faa559dfb200a534e50b/bs4-0.0.2-py2.py3-none-any.whl (1.2 kB)\n",
      "Requirement already satisfied: pandas in /opt/conda/envs/python35-paddle120-env/lib/python3.7/site-packages (from tushare) (1.1.5)\n",
      "Requirement already satisfied: websocket-client>=0.57.0 in /opt/conda/envs/python35-paddle120-env/lib/python3.7/site-packages (from tushare) (1.4.1)\n",
      "Collecting simplejson\n",
      "  Downloading https://pypi.tuna.tsinghua.edu.cn/packages/f6/8c/6ab9aadb8aca5825f16e10c92f1d4d9f830d15e19163809694366de5d6f1/simplejson-3.20.1-cp37-cp37m-manylinux_2_5_x86_64.manylinux1_x86_64.manylinux_2_17_x86_64.manylinux2014_x86_64.whl (126 kB)\n",
      "\u001b[2K     \u001b[90m━━━━━━━━━━━━━━━━━━━━━━━━━━━━━━━━━━━━━━\u001b[0m \u001b[32m127.0/127.0 kB\u001b[0m \u001b[31m31.3 MB/s\u001b[0m eta \u001b[36m0:00:00\u001b[0m\n",
      "\u001b[?25hRequirement already satisfied: requests in /opt/conda/envs/python35-paddle120-env/lib/python3.7/site-packages (from tushare) (2.22.0)\n",
      "Requirement already satisfied: tqdm in /opt/conda/envs/python35-paddle120-env/lib/python3.7/site-packages (from tushare) (4.36.1)\n",
      "Requirement already satisfied: beautifulsoup4 in /opt/conda/envs/python35-paddle120-env/lib/python3.7/site-packages (from bs4->tushare) (4.11.1)\n",
      "Requirement already satisfied: numpy>=1.15.4 in /opt/conda/envs/python35-paddle120-env/lib/python3.7/site-packages (from pandas->tushare) (1.21.6)\n",
      "Requirement already satisfied: python-dateutil>=2.7.3 in /opt/conda/envs/python35-paddle120-env/lib/python3.7/site-packages (from pandas->tushare) (2.8.2)\n",
      "Requirement already satisfied: pytz>=2017.2 in /opt/conda/envs/python35-paddle120-env/lib/python3.7/site-packages (from pandas->tushare) (2019.3)\n",
      "Requirement already satisfied: urllib3!=1.25.0,!=1.25.1,<1.26,>=1.21.1 in /opt/conda/envs/python35-paddle120-env/lib/python3.7/site-packages (from requests->tushare) (1.25.6)\n",
      "Requirement already satisfied: idna<2.9,>=2.5 in /opt/conda/envs/python35-paddle120-env/lib/python3.7/site-packages (from requests->tushare) (2.8)\n",
      "Requirement already satisfied: chardet<3.1.0,>=3.0.2 in /opt/conda/envs/python35-paddle120-env/lib/python3.7/site-packages (from requests->tushare) (3.0.4)\n",
      "Requirement already satisfied: certifi>=2017.4.17 in /opt/conda/envs/python35-paddle120-env/lib/python3.7/site-packages (from requests->tushare) (2019.9.11)\n",
      "Requirement already satisfied: six>=1.5 in /opt/conda/envs/python35-paddle120-env/lib/python3.7/site-packages (from python-dateutil>=2.7.3->pandas->tushare) (1.16.0)\n",
      "Requirement already satisfied: soupsieve>1.2 in /opt/conda/envs/python35-paddle120-env/lib/python3.7/site-packages (from beautifulsoup4->bs4->tushare) (2.3.2.post1)\n",
      "Installing collected packages: simplejson, bs4, tushare\n",
      "Successfully installed bs4-0.0.2 simplejson-3.20.1 tushare-1.4.21\n",
      "\n",
      "\u001b[1m[\u001b[0m\u001b[34;49mnotice\u001b[0m\u001b[1;39;49m]\u001b[0m\u001b[39;49m A new release of pip available: \u001b[0m\u001b[31;49m22.1.2\u001b[0m\u001b[39;49m -> \u001b[0m\u001b[32;49m24.0\u001b[0m\n",
      "\u001b[1m[\u001b[0m\u001b[34;49mnotice\u001b[0m\u001b[1;39;49m]\u001b[0m\u001b[39;49m To update, run: \u001b[0m\u001b[32;49mpip install --upgrade pip\u001b[0m\n"
     ]
    }
   ],
   "source": [
    "!pip install tushare"
   ]
  },
  {
   "cell_type": "markdown",
   "metadata": {
    "collapsed": false
   },
   "source": [
    "## 1.导入引用库"
   ]
  },
  {
   "cell_type": "code",
   "execution_count": 3,
   "metadata": {
    "collapsed": false
   },
   "outputs": [],
   "source": [
    "# 导入需要的依赖包\n",
    "import numpy as np  #主要用于数组和矩阵的处理、数学运算和数值分析\n",
    "import matplotlib.pyplot as plt #绘图库，主要用于绘制折线图\n",
    "import paddle  \n",
    "import paddle.fluid as fluid  #早期版本的核心模块，提供了很多底层 API 用于定义计算图、操作张量、定义神经网络等\n",
    "import pandas as pd  #用于数据处理和转换 \n",
    "from paddle.utils.plot import Ploter  #用于生成训练过程中的图表,如损失曲线\n",
    "import tushare as ts\n"
   ]
  },
  {
   "cell_type": "markdown",
   "metadata": {
    "collapsed": false
   },
   "source": [
    "## 2.通过调用Tushare的数据接口获取股票历史数据（日线）\n",
    "\n",
    "股票数据来源为Tushare大数据开放社区 [https://tushare.pro/](http://)"
   ]
  },
  {
   "cell_type": "code",
   "execution_count": 4,
   "metadata": {
    "collapsed": false
   },
   "outputs": [
    {
     "name": "stdout",
     "output_type": "stream",
     "text": [
      "输入所选股票代码（格式：代码.SZ/SH）：数据已保存到 historicaldata.csv\n"
     ]
    }
   ],
   "source": [
    "\r\n",
    "\r\n",
    "# 设置Tushare Token,以便进行股票数据请求\r\n",
    "ts.set_token('5489b79a9cf99f44d48b63939e6b661e00b1a5e0795b4009f640cf2b')  \r\n",
    "pro = ts.pro_api() #获取 Tushare Pro API 的接口\r\n",
    "\r\n",
    "def get_stock_data(stock_code):\r\n",
    "    \"\"\"\r\n",
    "    获取股票历史数据（日线）并转换为 .cxv 格式\r\n",
    "    :param stock_code: 股票代码（如000001.SZ）\r\n",
    "    :return: DataFrame格式的历史数据\r\n",
    "    \"\"\"\r\n",
    "    try:\r\n",
    "        # 获取日线数据\r\n",
    "        df = pro.daily(ts_code=stock_code)\r\n",
    "\r\n",
    "        # 列名映射\r\n",
    "        df_cxv = df.rename(columns={\r\n",
    "            'trade_date': 'dateTime',#开盘日期\r\n",
    "            'open': 'startPrice', #开盘价\r\n",
    "            'close': 'endPrice', #收盘价\r\n",
    "            'low': 'minPrice', #最低价\r\n",
    "            'high': 'maxPrice', #最高价\r\n",
    "            'vol': 'turnoverAmount', #成交量\r\n",
    "            'pct_chg': 'diffPercent' #涨跌幅\r\n",
    "        })\r\n",
    "\r\n",
    "        # 转换日期格式\r\n",
    "        df_cxv['dateTime'] = pd.to_datetime(df_cxv['dateTime'])\r\n",
    "        \r\n",
    "\r\n",
    "        # 按时间升序排列（旧在前，新在后）\r\n",
    "        df_cxv.sort_values('dateTime', ascending=True, inplace=True)\r\n",
    "        df_cxv.reset_index(drop=True, inplace=True)  # 重置索引\r\n",
    "\r\n",
    "        # 添加一列 nextdaymaxPrice，表示下一日最高价列\r\n",
    "        df_cxv['nextdaymaxPrice'] = df_cxv['maxPrice'].shift(-1)\r\n",
    "        \r\n",
    "        # 保留所需列\r\n",
    "        columns_to_keep = [\r\n",
    "            'dateTime', 'startPrice', 'endPrice', 'minPrice', \r\n",
    "            'maxPrice', 'turnoverAmount', 'amount', 'diffPercent', 'nextdaymaxPrice'\r\n",
    "        ]\r\n",
    "        df_cxv = df_cxv[columns_to_keep]\r\n",
    "        \r\n",
    "\r\n",
    "        return df_cxv\r\n",
    "\r\n",
    "    except Exception as e:\r\n",
    "        print(f\"数据转换失败: {e}\")\r\n",
    "        return None\r\n",
    "\r\n",
    "\r\n",
    "# 获取股票代码为000001.SZ（平安银行）的历史数据\r\n",
    "stock_code = input(\"输入所选股票代码（格式：代码.SZ/SH）：\").strip()\r\n",
    "stock_data = get_stock_data(stock_code)\r\n",
    "\r\n",
    "if stock_data is not None:\r\n",
    "    # 如果成功获取到数据，保存为 .csv 文件\r\n",
    "    stock_data.to_csv(\"./data/historicaldata.csv\", index=False)\r\n",
    "    print(\"数据已保存到 historicaldata.csv\")\r\n",
    "    \r\n",
    "else:\r\n",
    "    print(\"未能获取到有效数据，请检查股票代码或网络连接。\")"
   ]
  },
  {
   "cell_type": "markdown",
   "metadata": {
    "collapsed": false
   },
   "source": [
    "## 3.数据处理\n",
    "![](https://ai-studio-static-online.cdn.bcebos.com/4e4cb490737f49aaa30ef856576838d549f016d9100f49bcb21def8db67584aa)\n",
    "\n",
    "上图为在举例股票在.cxv文件中的历史数据存储的格式 我们要经过预处理，在其中提取所需数据并设置为我们希望的格式，并将其划分训练数据与测试数据"
   ]
  },
  {
   "cell_type": "code",
   "execution_count": 18,
   "metadata": {
    "collapsed": false
   },
   "outputs": [],
   "source": [
    "#定义归一化函数\r\n",
    "def normalization(data):\r\n",
    "    result_data = (data - avg) / (max_ - min_) #最小-最大归一化方法，将数据缩放到一个特定的范围[-1,1]\r\n",
    "    return result_data\r\n",
    "\r\n"
   ]
  },
  {
   "cell_type": "code",
   "execution_count": 19,
   "metadata": {
    "collapsed": false
   },
   "outputs": [
    {
     "name": "stdout",
     "output_type": "stream",
     "text": [
      "[[ 0.09901572  0.08991792  0.09594762 ... -0.07913107 -0.06494497\n",
      "   0.10567019]\n",
      " [ 0.09116232  0.10668163  0.08998956 ... -0.07357608  0.19585979\n",
      "   0.12212736]\n",
      " [ 0.11448454  0.12437662  0.11739661 ... -0.04768546  0.19884042\n",
      "   0.13835591]\n",
      " ...\n",
      " [-0.05495858 -0.05885971 -0.05514867 ...  0.06007032 -0.0736782\n",
      "  -0.06027265]\n",
      " [-0.05924226 -0.05816123 -0.05467202 ... -0.00620602  0.01042015\n",
      "  -0.06118694]\n",
      " [-0.05852832 -0.0579284  -0.055387   ...  0.00603995  0.00189556\n",
      "  -0.05798693]]\n"
     ]
    }
   ],
   "source": [
    "#获取数据\r\n",
    "dataset =pd.read_csv('./data/historicaldata.csv',index_col='dateTime',parse_dates=['dateTime'])\r\n",
    "Num_row = dataset.shape[0]-1  \r\n",
    "data = dataset[1:Num_row] #去掉包含空数据的第一行与最后一行数据\r\n",
    "data_set0 = np.array(data, dtype='float32') #转换为数据类型为32位浮点数的 NumPy 数组\r\n",
    "avg = np.mean(data_set0, axis=0) #axis=0 表示按列进行操作\r\n",
    "max_ = np.max(data_set0, axis=0)\r\n",
    "min_ = np.min(data_set0, axis=0)\r\n",
    "\r\n",
    "data_set0 = normalization(data_set0)"
   ]
  },
  {
   "cell_type": "code",
   "execution_count": 20,
   "metadata": {
    "collapsed": false
   },
   "outputs": [
    {
     "name": "stdout",
     "output_type": "stream",
     "text": [
      "(4798, 8)\n",
      "(1200, 8)\n"
     ]
    }
   ],
   "source": [
    "#划分训练数据与测试数据\r\n",
    "DATA_NUM = len(data_set0)\r\n",
    "train_len = int(DATA_NUM * 0.8)\r\n",
    "train_data = data_set0[:train_len]\r\n",
    "test_data = data_set0[train_len: ]\r\n",
    "print(train_data.shape)\r\n",
    "print(test_data.shape)\r\n"
   ]
  },
  {
   "cell_type": "code",
   "execution_count": 21,
   "metadata": {
    "collapsed": false
   },
   "outputs": [],
   "source": [
    "#构造数据读取器reader，批量读取训练数据和测试数据\r\n",
    "def my_train_reader():\r\n",
    "    def reader(): #逐个返回训练数据的特征和标签\r\n",
    "        for temp in train_data:\r\n",
    "            yield temp[:-1], temp[-1] #yield 会返回一个（特征，标签）的元组\r\n",
    "    return reader\r\n",
    "\r\n",
    "def my_test_reader():\r\n",
    "    def reader():\r\n",
    "        for temp in test_data:\r\n",
    "            yield temp[:-1], temp[-1]    \r\n",
    "    return reader\r\n"
   ]
  },
  {
   "cell_type": "markdown",
   "metadata": {
    "collapsed": false
   },
   "source": [
    "## 4.搭建模型"
   ]
  },
  {
   "cell_type": "markdown",
   "metadata": {
    "collapsed": false
   },
   "source": [
    "# 下面的代码实现了一个用于回归任务的 LSTM 网络，主要过程如下：\n",
    "1. 输入数据通过全连接层 fc0 进行维度扩展。\n",
    "2. 经过 LSTM 层计算时间序列的隐状态。\n",
    "3. 对 LSTM 输出进行最大池化，提取重要特征。\n",
    "4. 使用 tanh 激活函数进行非线性变换。\n",
    "5. 最后通过全连接层 prediction 进行预测，输出一个标量。\n",
    "6. 使用平方误差代价函数计算模型的损失，并通过 mean 求得整个批次的平均损失。\n",
    "这个模型的目标是通过输入的时间序列数据来进行回归预测，常见于时间序列预测等任务"
   ]
  },
  {
   "cell_type": "code",
   "execution_count": 22,
   "metadata": {
    "collapsed": false
   },
   "outputs": [],
   "source": [
    "# 定义batch  \r\n",
    "#使用 paddle.batch() 将 my_train_reader() 返回的训练数据进行批处理，批大小为 200。这个数据读取器会在训练时按批次返回数据\r\n",
    "train_reader = paddle.batch(\r\n",
    "    my_train_reader(),\r\n",
    "    batch_size=200)  #每次训练时输入到模型的数据量\r\n"
   ]
  },
  {
   "cell_type": "code",
   "execution_count": 23,
   "metadata": {
    "collapsed": false
   },
   "outputs": [],
   "source": [
    "#搭建LSTM网络\r\n",
    "DIM = 1       #输入数据的维度\r\n",
    "hid_dim2 = 1  #输出的隐藏层维度\r\n",
    "\r\n",
    "#lod_level=0表示0 means the input data is not a sequence\r\n",
    "\r\n",
    "#x：输入数据，数据类型为 float32，形状为 [DIM]（即每个输入样本的维度为 1）\r\n",
    "# lod_level=1 表示这是一个序列数据（lod_level 用来表示数据的层次结构，1表示数据是有时间步的序列）\r\n",
    "# label：标签数据，形状为 [1]，用于回归任务的目标值。\r\n",
    "\r\n",
    "x = fluid.layers.data(name='x', shape=[DIM], dtype='float32', lod_level=1)  \r\n",
    "label = fluid.layers.data(name='y', shape=[1], dtype='float32')\r\n",
    "# Lstm layer\r\n",
    "fc0 = fluid.layers.fc(input=x, size=DIM * 4)\r\n",
    "lstm_h, c = fluid.layers.dynamic_lstm(\r\n",
    "    input=fc0, size=DIM * 4, is_reverse=False)\r\n",
    "# 输入为经过全连接层处理后的数据，LSTM 单元输出有 4 个特征，LSTM 网络是正向的，即按时间步顺序处理数据\r\n",
    "\r\n",
    "# 对LSTM 隐藏层状态进行最大池化，选择序列中的最大值，从每个时间步的输出中提取出最显著的特征\r\n",
    "lstm_max = fluid.layers.sequence_pool(input=lstm_h, pool_type='max')\r\n",
    "# 激活函数\r\n",
    "# 对池化后的结果应用 tanh 激活函数，这将把数据的范围压缩到 [-1, 1] 之间\r\n",
    "lstm_max_tanh = fluid.layers.tanh(lstm_max)\r\n",
    "# 全连接层，使用一个全连接层，将经过 tanh 激活后的池化数据输入，并输出维度为1\r\n",
    "prediction = fluid.layers.fc(input=lstm_max_tanh, size=hid_dim2, act='tanh')\r\n",
    "# 代价函数，计算预测值和真实标签之间的平方误差\r\n",
    "cost = fluid.layers.square_error_cost(input=prediction, label=label)\r\n",
    "# 平均代价，最终的损失函数，表示整个批次数据的平均误差，在模型训练时会最小化该损失\r\n",
    "avg_cost = fluid.layers.mean(x=cost)\r\n"
   ]
  },
  {
   "cell_type": "markdown",
   "metadata": {
    "collapsed": false
   },
   "source": [
    "## 5.训练模型"
   ]
  },
  {
   "cell_type": "code",
   "execution_count": 24,
   "metadata": {
    "collapsed": false
   },
   "outputs": [],
   "source": [
    "train_title = \"Train cost\"\r\n",
    "test_title = \"Test cost\"\r\n",
    "plot_cost = Ploter(train_title, test_title) #创建了Ploter类的实例"
   ]
  },
  {
   "cell_type": "code",
   "execution_count": 25,
   "metadata": {
    "collapsed": false
   },
   "outputs": [
    {
     "data": {
      "image/png": "[encoded data removed]",
      "text/plain": [
       "<Figure size 640x480 with 1 Axes>"
      ]
     },
     "metadata": {},
     "output_type": "display_data"
    },
    {
     "name": "stdout",
     "output_type": "stream",
     "text": [
      "Epoch 199, total avg cost = 0.000041\n"
     ]
    },
    {
     "data": {
      "text/plain": [
       "<Figure size 640x480 with 0 Axes>"
      ]
     },
     "metadata": {},
     "output_type": "display_data"
    }
   ],
   "source": [
    "# 定义优化器\r\n",
    "# 使用百度飞桨框架中的Adam优化器来优化模型参数\r\n",
    "# Adam优化器是基于梯度的一种自适应学习率方法，通常能在训练过程中快速收敛\r\n",
    "adam_optimizer = fluid.optimizer.Adam(learning_rate=0.001)\r\n",
    "adam_optimizer.minimize(avg_cost) #指定优化器最小化的平均损失函数\r\n",
    "\r\n",
    "# 使用CPU\r\n",
    "place = fluid.CPUPlace()\r\n",
    "# place = fluid.CUDAPlace(1)\r\n",
    "\r\n",
    "exe = fluid.Executor(place) #创建执行器。\r\n",
    "exe.run( fluid.default_startup_program() ) #初始化全局启动程序，初始化网络中的参数\r\n",
    "\r\n",
    "feeder = fluid.DataFeeder(place=place, feed_list=[x, label]) #数据馈送器，将数据喂入模型\r\n",
    "# 定义双层循环\r\n",
    "def train_loop():\r\n",
    "    step = 0 \r\n",
    "    Epoch = 200\r\n",
    "    for epoch_id in range(Epoch):\r\n",
    "        total_loss_pass = 0 #每一轮开始时，将总损失初始化为0\r\n",
    "        for data in train_reader(): #从训练数据集中按照批次读取数据          \r\n",
    "            avg_loss_value,  = exe.run(  #当前批次的平均损失\r\n",
    "                fluid.default_main_program(), #返回默认的主计算图\r\n",
    "                feed= feeder.feed(data),  #将当前批次的数据传递给计算图\r\n",
    "                fetch_list=[avg_cost]) #从计算图中获取模型的损失数据\r\n",
    "            total_loss_pass += avg_loss_value  \r\n",
    "        # 画图\r\n",
    "        plot_cost.append(train_title, step, avg_loss_value)\r\n",
    "        step += 1\r\n",
    "        plot_cost.plot()\r\n",
    "    fluid.io.save_inference_model(SAVE_DIRNAME, ['x'], [prediction], exe) \r\n",
    "    #将训练后的模型保存到指定的目录，['x']是输入变量，[prediction]是预测结果，exe用于执行保存操作\r\n",
    "    print(\"Epoch %d, total avg cost = %f\" % (epoch_id, total_loss_pass/Epoch))\r\n",
    "SAVE_DIRNAME = 'model'\r\n",
    "train_loop()"
   ]
  },
  {
   "cell_type": "markdown",
   "metadata": {
    "collapsed": false
   },
   "source": [
    "## 6.模型预测\n"
   ]
  },
  {
   "cell_type": "code",
   "execution_count": 26,
   "metadata": {
    "collapsed": false
   },
   "outputs": [],
   "source": [
    "#测试数据处理，将传入的temp_arr转化为LoDTensor（层次化的张量）\r\n",
    "def convert2LODTensor(temp_arr, len_list):\r\n",
    "    temp_arr = np.array(temp_arr) #将传入的temp_arr转换为NumPy数组\r\n",
    "    temp_arr = temp_arr.flatten().reshape((-1, 1)) #把测试样本的array平坦化到一维数据的格式\r\n",
    "    return fluid.create_lod_tensor(\r\n",
    "        data=temp_arr, #对测试样本来说这里表示样本的平坦化数据列表\r\n",
    "        recursive_seq_lens =[len_list], #对于测试样本来说这里全是6，所以为列表\r\n",
    "        place=fluid.CPUPlace()\r\n",
    "        )#返回：A fluid LoDTensor object with tensor data and recursive_seq_lens info\r\n",
    "    \r\n",
    "def get_tensor_label(mini_batch):  \r\n",
    "    tensor = None \r\n",
    "    labels = [] #初始化一个空列表用于存储标签\r\n",
    "    \r\n",
    "    temp_arr = [] #初始化一个空列表用于存储输入数据（即特征x）\r\n",
    "    len_list = [] #用于存储每个样本的序列长度\r\n",
    "    for _ in mini_batch:   #mini_batch表示的测试样本数据\r\n",
    "        labels.append(_[1]) #收集 label----y\r\n",
    "        temp_arr.append(_[0]) #收集序列本身--x\r\n",
    "        len_list.append(len(_[0])) #收集每个序列x的长度,和上边x的维度对应\r\n",
    "    tensor = convert2LODTensor(temp_arr, len_list)    \r\n",
    "    return tensor, labels\r\n",
    "\r\n",
    "my_tensor = None\r\n",
    "labels = None\r\n",
    "\r\n",
    "size = test_data.shape[0]\r\n",
    "# 定义batch\r\n",
    "test_reader = paddle.batch(\r\n",
    "    my_test_reader(),\r\n",
    "    batch_size=size)#一次性把样本取完\r\n",
    "\r\n",
    "\r\n",
    "for mini_batch in test_reader():\r\n",
    "    my_tensor,labels = get_tensor_label(mini_batch)#其实就是变成tensor格式的x和y\r\n",
    "    break"
   ]
  },
  {
   "cell_type": "code",
   "execution_count": 27,
   "metadata": {
    "collapsed": false
   },
   "outputs": [],
   "source": [
    "#模型预测\r\n",
    "place = fluid.CPUPlace()\r\n",
    "exe = fluid.Executor(place)\r\n",
    "inference_scope = fluid.core.Scope() #创建一个 Scope 对象，表示一个命名空间，用来存储计算图和相关变量。\r\n",
    "with fluid.scope_guard(inference_scope):#模型的变量和计算会被限制在这个作用域中，不会污染全局作用域。\r\n",
    "    [inference_program, feed_target_names, fetch_targets] = (\r\n",
    "        fluid.io.load_inference_model(SAVE_DIRNAME, exe)) #加载一个已经保存的推理模型，包括模型的计算图、输入和输出的目标名称。\r\n",
    "    results = exe.run(inference_program, #运行模型进行推理\r\n",
    "                      feed= {'x': my_tensor}, #{feed_target_names[0]:my_tensor },和上面保存模型时统一\r\n",
    "                      fetch_list=fetch_targets) #要获取的输出目标，即模型的预测结果。\r\n"
   ]
  },
  {
   "cell_type": "code",
   "execution_count": 28,
   "metadata": {
    "collapsed": false
   },
   "outputs": [
    {
     "data": {
      "image/png": "[encoded data removed]",
      "text/plain": [
       "<Figure size 640x480 with 1 Axes>"
      ]
     },
     "metadata": {},
     "output_type": "display_data"
    }
   ],
   "source": [
    "#预测结果\r\n",
    "result_print = results[0].flatten()\r\n",
    "x1=[]\r\n",
    "for x in test_data:\r\n",
    "    x1.append(x[3])\r\n",
    "plt.figure()\r\n",
    "plt.plot(list(range(len(x1))), x1, color='r', label='真实值')  #红线为真实值\r\n",
    "plt.plot(list(range(len(result_print))), result_print, color='g', label='预测值')  #绿线为预测值\r\n",
    "plt.show()"
   ]
  }
 ],
 "metadata": {
  "kernelspec": {
   "display_name": "Python 3",
   "language": "python",
   "name": "py35-paddle1.2.0"
  },
  "language_info": {
   "codemirror_mode": {
    "name": "ipython",
    "version": 3
   },
   "file_extension": ".py",
   "mimetype": "text/x-python",
   "name": "python",
   "nbconvert_exporter": "python",
   "pygments_lexer": "ipython3",
   "version": "3.7.4"
  }
 },
 "nbformat": 4,
 "nbformat_minor": 1
}
